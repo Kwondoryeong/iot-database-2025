{
 "cells": [
  {
   "cell_type": "markdown",
   "metadata": {},
   "source": [
    "### DB연동 파이썬 프로그램"
   ]
  },
  {
   "cell_type": "markdown",
   "metadata": {},
   "source": [
    "#### 환경\n",
    "- MySQL 9.2.0 -- SELECT VERSION() \n",
    "- Python 3.11.9\n",
    "    - MySQL 모듈 - PyMySQL"
   ]
  },
  {
   "cell_type": "code",
   "execution_count": 1,
   "metadata": {},
   "outputs": [
    {
     "name": "stdout",
     "output_type": "stream",
     "text": [
      "Collecting pymysql\n",
      "  Downloading PyMySQL-1.1.1-py3-none-any.whl.metadata (4.4 kB)\n",
      "Downloading PyMySQL-1.1.1-py3-none-any.whl (44 kB)\n",
      "   ---------------------------------------- 0.0/45.0 kB ? eta -:--:--\n",
      "   ------------------ --------------------- 20.5/45.0 kB 640.0 kB/s eta 0:00:01\n",
      "   ---------------------------------------- 45.0/45.0 kB 739.0 kB/s eta 0:00:00\n",
      "Installing collected packages: pymysql\n",
      "Successfully installed pymysql-1.1.1\n"
     ]
    },
    {
     "name": "stderr",
     "output_type": "stream",
     "text": [
      "\n",
      "[notice] A new release of pip is available: 24.0 -> 25.0.1\n",
      "[notice] To update, run: python.exe -m pip install --upgrade pip\n"
     ]
    }
   ],
   "source": [
    "# pymysql 모듈 설치\n",
    "!pip install pymysql"
   ]
  },
  {
   "cell_type": "markdown",
   "metadata": {},
   "source": [
    "#### 모듈 불러오기"
   ]
  },
  {
   "cell_type": "code",
   "execution_count": 3,
   "metadata": {},
   "outputs": [],
   "source": [
    "import pymysql"
   ]
  },
  {
   "cell_type": "markdown",
   "metadata": {},
   "source": [
    "#### DB접속 변수 초기화"
   ]
  },
  {
   "cell_type": "code",
   "execution_count": 19,
   "metadata": {},
   "outputs": [
    {
     "name": "stdout",
     "output_type": "stream",
     "text": [
      "DB 연결 준비..\n",
      "DB 연결 성공\n"
     ]
    }
   ],
   "source": [
    "host = 'localhost' # or '127.0.0.1'\n",
    "port = 3306\n",
    "database = 'madang'\n",
    "username = 'root'\n",
    "password = '12345'\n",
    "\n",
    "conflag = True # 접속상태\n",
    "\n",
    "try:\n",
    "    print('DB 연결 준비..')\n",
    "    # 연결객체 conn 생성 \n",
    "    # conn = pymysql.connect(host=host, user=username, passwd=password, db=database, port=port, charset='utf-8') # 파라미터\n",
    "    conn = pymysql.connect(host=host, user=username, passwd=password, db=database, port=port) # 파라미터\n",
    "\n",
    "    print('DB 연결 성공')\n",
    "    conflag = True\n",
    "except Exception as e:\n",
    "    print(f'DB 연결 실패~!! {e}')\n",
    "    conflag = False\n",
    "    "
   ]
  },
  {
   "cell_type": "markdown",
   "metadata": {},
   "source": [
    "#### 데이터 가져오기"
   ]
  },
  {
   "cell_type": "code",
   "execution_count": null,
   "metadata": {},
   "outputs": [
    {
     "name": "stdout",
     "output_type": "stream",
     "text": [
      "BookNo\tBookName\t\tPublisher\tPrice\n",
      "  1\t축구의 역사\t\t굿스포츠\t      7000\n",
      "  2\t축구아는 여자\t\t나무수\t     13000\n",
      "  3\t축구의 이해\t\t대한미디어\t     22000\n",
      "  4\t골프 바이블\t\t대한미디어\t     35000\n",
      "  5\t피겨 교본\t\t굿스포츠\t      8000\n",
      "  6\t역도 단계별기술\t\t굿스포츠\t      6000\n",
      "  7\t야구의 추억\t\t이상미디어\t     20000\n",
      "  8\t야구를 부탁해\t\t이상미디어\t     13000\n",
      "  9\t올림픽 이야기\t\t삼성당\t      7500\n",
      " 10\tOlympic Champions\t\tPearson\t     13000\n",
      " 11\t스포츠 의학\t\t한솔의학서적\t     90000\n",
      " 12\t스타워즈 아트북\t\t디즈니\t    150000\n",
      " 13\t기타교본 1\t\t지미 핸드릭스\t     12000\n",
      " 14\t스포츠 의학\t\tPearson\t     12000\n",
      " 21\tZen Golf\t\tPearson\t     12000\n",
      " 22\tSoccer Skills\t\tHuman Kinetics\t     15000\n",
      " 31\tBTS PhotoAlbum\t\t하이브\t    300000\n",
      " 33\t스포츠 즐거움\t\t마당과학서적\t     45000\n",
      " 40\t블레이드 러너\t\t이상미디어\t     25000\n"
     ]
    }
   ],
   "source": [
    "if conflag:\n",
    "    cursor = conn.cursor()          # 커서 생성(MySQL의 커서와 동일한 기능)\n",
    "    # 프로그래밍 언어에서 쿼리문 사용시 ;제거\n",
    "    query = '''SELECT bookid        \n",
    "                    , bookname\n",
    "                    , publisher\n",
    "                    , price\n",
    "                 FROM Book'''   # SQL 문장 준비 여러줄 문자열로 Workbench와 동일하게 사용\n",
    "    res = cursor.execute(query) # SQL 실행(1회 호출)\n",
    "    data = cursor.fetchall()    # 쿼리 데이터 가져옴\n",
    "\n",
    "    # 화면에 출력\n",
    "    print (f'BookNo\\tBookName\\t\\tPublisher\\tPrice')\n",
    "    for rowdata in data:\n",
    "        print(f'{rowdata[0]:>3}\\t{rowdata[1]}\\t\\t{rowdata[2]}\\t{rowdata[3]:>10}')\n",
    "\n",
    "    cursor.close()  # 커서를 닫음\n"
   ]
  },
  {
   "cell_type": "code",
   "execution_count": null,
   "metadata": {},
   "outputs": [],
   "source": [
    "conn.close()    # 데이터베이스 연결 닫기"
   ]
  }
 ],
 "metadata": {
  "kernelspec": {
   "display_name": "Python 3",
   "language": "python",
   "name": "python3"
  },
  "language_info": {
   "codemirror_mode": {
    "name": "ipython",
    "version": 3
   },
   "file_extension": ".py",
   "mimetype": "text/x-python",
   "name": "python",
   "nbconvert_exporter": "python",
   "pygments_lexer": "ipython3",
   "version": "3.11.9"
  }
 },
 "nbformat": 4,
 "nbformat_minor": 2
}
